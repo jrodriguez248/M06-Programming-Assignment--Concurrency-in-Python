{
 "cells": [
  {
   "cell_type": "code",
   "execution_count": 24,
   "id": "3b822b8c",
   "metadata": {},
   "outputs": [],
   "source": [
    "from datetime import date\n",
    "\n",
    "today = date.today()\n",
    "with open('today.txt', 'w') as file:\n",
    "    file.write(str(today))\n"
   ]
  },
  {
   "cell_type": "code",
   "execution_count": 25,
   "id": "956b16ed",
   "metadata": {},
   "outputs": [],
   "source": [
    "with open('today.txt', 'r') as file:\n",
    "    today_string = file.read()\n"
   ]
  },
  {
   "cell_type": "code",
   "execution_count": 27,
   "id": "c6267bc3",
   "metadata": {},
   "outputs": [],
   "source": [
    "from datetime import datetime\n",
    "\n",
    "parsed_date = datetime.strptime(today_string.strip(), '%Y-%m-%d').date()\n"
   ]
  },
  {
   "cell_type": "code",
   "execution_count": 28,
   "id": "fcb199b0",
   "metadata": {},
   "outputs": [
    {
     "name": "stdout",
     "output_type": "stream",
     "text": [
      "2023-05-02\n"
     ]
    }
   ],
   "source": [
    "print(parsed_date)\n"
   ]
  }
 ],
 "metadata": {
  "kernelspec": {
   "display_name": "Python 3 (ipykernel)",
   "language": "python",
   "name": "python3"
  },
  "language_info": {
   "codemirror_mode": {
    "name": "ipython",
    "version": 3
   },
   "file_extension": ".py",
   "mimetype": "text/x-python",
   "name": "python",
   "nbconvert_exporter": "python",
   "pygments_lexer": "ipython3",
   "version": "3.10.9"
  }
 },
 "nbformat": 4,
 "nbformat_minor": 5
}

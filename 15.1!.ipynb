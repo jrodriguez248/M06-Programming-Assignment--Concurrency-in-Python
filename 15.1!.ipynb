{
 "cells": [
  {
   "cell_type": "code",
   "execution_count": 10,
   "id": "3f367b35",
   "metadata": {},
   "outputs": [
    {
     "name": "stdout",
     "output_type": "stream",
     "text": [
      "Process 0: 13:50:47 - starting task\n",
      "Process 1: 13:50:47 - starting task\n",
      "Process 2: 13:50:47 - starting task\n",
      "Process 0: 13:50:47 - ending task\n",
      "Process 2: 13:50:48 - ending task\n",
      "Process 1: 13:50:48 - ending task\n"
     ]
    }
   ],
   "source": [
    "import concurrent.futures\n",
    "import time\n",
    "import random\n",
    "\n",
    "def print_message(name):\n",
    "    print(f\"Process {name}: {time.strftime('%H:%M:%S')} - starting task\")\n",
    "    time.sleep(random.random())\n",
    "    print(f\"Process {name}: {time.strftime('%H:%M:%S')} - ending task\")\n",
    "\n",
    "with concurrent.futures.ThreadPoolExecutor(max_workers=3) as executor:\n",
    "    for i in range(3):\n",
    "        executor.submit(print_message, i)\n"
   ]
  }
 ],
 "metadata": {
  "kernelspec": {
   "display_name": "Python 3 (ipykernel)",
   "language": "python",
   "name": "python3"
  },
  "language_info": {
   "codemirror_mode": {
    "name": "ipython",
    "version": 3
   },
   "file_extension": ".py",
   "mimetype": "text/x-python",
   "name": "python",
   "nbconvert_exporter": "python",
   "pygments_lexer": "ipython3",
   "version": "3.10.9"
  }
 },
 "nbformat": 4,
 "nbformat_minor": 5
}
